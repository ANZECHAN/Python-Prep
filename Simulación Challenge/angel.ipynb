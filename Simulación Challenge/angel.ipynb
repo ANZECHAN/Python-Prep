{
 "cells": [
  {
   "cell_type": "code",
   "execution_count": 3,
   "metadata": {},
   "outputs": [],
   "source": [
    "def Factorial(numero):\n",
    "    '''\n",
    "    Esta función devuelve el factorial del número pasado como parámetro.\n",
    "    En caso de que no sea de tipo entero y/o sea menor que 1, debe retornar nulo.\n",
    "    Recibe un argumento:\n",
    "        numero: Será el número con el que se calcule el factorial\n",
    "    Ej:\n",
    "        Factorial(4) debe retornar 24\n",
    "        Factorial(-2) debe retornar nulo\n",
    "    '''\n",
    "    #Tu código aca:\n",
    "    if type(numero) != int:\n",
    "        return None\n",
    "    if numero < 1: \n",
    "        return None\n",
    "    factorial = 1\n",
    "    while (numero > 1):\n",
    "        factorial = factorial * numero      #(factorial*=numero)\n",
    "        numero = numero - 1                 #(numero-=1)\n",
    "    return factorial"
   ]
  },
  {
   "cell_type": "code",
   "execution_count": null,
   "metadata": {},
   "outputs": [],
   "source": [
    "def EsPrimo(valor):\n",
    "    '''\n",
    "    Esta función devuelve el valor booleano True si el número reibido como parámetro es primo, de lo \n",
    "    contrario devuelve False..\n",
    "    En caso de que el parámetro no sea de tipo entero debe retornar nulo.\n",
    "    Recibe un argumento:\n",
    "        valor: Será el número a evaluar\n",
    "    Ej:\n",
    "        EsPrimo(7) debe retornar True\n",
    "        EsPrimo(8) debe retornar False\n",
    "    '''\n",
    "    #Tu código aca:\n",
    "    if type(valor) != int:\n",
    "        return None\n",
    "\n",
    "    primo = True\n",
    "    for i in range(2,valor):\n",
    "        if (valor%i == 0):\n",
    "            primo = False\n",
    "            break\n",
    "    return primo"
   ]
  }
 ],
 "metadata": {
  "kernelspec": {
   "display_name": "Python 3",
   "language": "python",
   "name": "python3"
  },
  "language_info": {
   "codemirror_mode": {
    "name": "ipython",
    "version": 3
   },
   "file_extension": ".py",
   "mimetype": "text/x-python",
   "name": "python",
   "nbconvert_exporter": "python",
   "pygments_lexer": "ipython3",
   "version": "3.10.6"
  },
  "orig_nbformat": 4
 },
 "nbformat": 4,
 "nbformat_minor": 2
}
